{
 "cells": [
  {
   "cell_type": "markdown",
   "id": "ef6a8615",
   "metadata": {},
   "source": [
    "## Introduction to GeoPandas\n",
    "\n",
    "### Part 3: Spatial Joins\n",
    "\n",
    "Spatial joins allow you to join datasets based on geographic information\n",
    "\n",
    "Import the libraries\n",
    "\n",
    "```import pandas as pd```\n",
    "\n",
    "```import geopandas as gpd```\n",
    "\n",
    "```import matplotlib.pyplot as plt```\n",
    "\n",
    "```%matplotlib inline```"
   ]
  },
  {
   "cell_type": "code",
   "execution_count": 251,
   "id": "aebbe612",
   "metadata": {},
   "outputs": [],
   "source": []
  },
  {
   "cell_type": "markdown",
   "id": "ba28a7f3",
   "metadata": {
    "deletable": false,
    "editable": false
   },
   "source": [
    "Create a GeoDataFrame called ```hoods``` from a geoJSON file representing neighborhoods in San Francisco\n",
    "\n",
    "We will import this file from a URL: https://data.sfgov.org/resource/aivd-8yrg.geojson\n",
    "\n",
    "```hoods = gpd.read_file('https://data.sfgov.org/resource/aivd-8yrg.geojson')```"
   ]
  },
  {
   "cell_type": "code",
   "execution_count": null,
   "id": "65a01c4f",
   "metadata": {},
   "outputs": [],
   "source": []
  },
  {
   "cell_type": "markdown",
   "id": "a5dbc23c",
   "metadata": {
    "deletable": false,
    "editable": false
   },
   "source": [
    "Rename the ```neighborho``` column to ```Neighborhoods```\n",
    "\n",
    "```hoods.rename(columns={'neighborho':'Neighborhood'}, inplace=True)```"
   ]
  },
  {
   "cell_type": "code",
   "execution_count": null,
   "id": "ad5ff386",
   "metadata": {},
   "outputs": [],
   "source": []
  },
  {
   "cell_type": "markdown",
   "id": "3937863d",
   "metadata": {},
   "source": [
    "Explore the data"
   ]
  },
  {
   "cell_type": "code",
   "execution_count": null,
   "id": "d2b48c87",
   "metadata": {},
   "outputs": [],
   "source": []
  },
  {
   "cell_type": "markdown",
   "id": "0e348642",
   "metadata": {
    "deletable": false,
    "editable": false
   },
   "source": [
    "Create a GeoDataFrame called ```libraries``` from the libraries.geojson file created in Part 1\n",
    "\n",
    "```libraries = gpd.read_file('data/libraries.geojson')```"
   ]
  },
  {
   "cell_type": "code",
   "execution_count": null,
   "id": "ccb7326b",
   "metadata": {},
   "outputs": [],
   "source": []
  },
  {
   "cell_type": "markdown",
   "id": "4f9f615a",
   "metadata": {
    "deletable": false,
    "editable": false
   },
   "source": [
    "Select only the name, address, zip_code, gross_sq_ft, and geometry columns\n",
    "\n",
    "```libraries = gpd.read_file('data/libraries.geojson')\n",
    "libraries = libraries[['common_name', 'address', 'gross_sq_ft','geometry']]\n",
    "libraries.rename(columns={'common_name':'Name','address':'Address','gross_sq_ft':'Square Ft'}, inplace=True)```"
   ]
  },
  {
   "cell_type": "code",
   "execution_count": null,
   "id": "9c7e2dd8",
   "metadata": {},
   "outputs": [],
   "source": []
  },
  {
   "cell_type": "code",
   "execution_count": null,
   "id": "ca4534d9",
   "metadata": {},
   "outputs": [],
   "source": []
  },
  {
   "cell_type": "markdown",
   "id": "a560c590",
   "metadata": {},
   "source": [
    "Join the ```libraries``` and ```hoods``` frames using ```sjoin```\n",
    "\n",
    "```joined = gpd.sjoin(\n",
    "    libraries, \n",
    "    hoods, \n",
    "    how='inner',\n",
    ")```"
   ]
  },
  {
   "cell_type": "code",
   "execution_count": null,
   "id": "43af0411",
   "metadata": {},
   "outputs": [],
   "source": []
  },
  {
   "cell_type": "markdown",
   "id": "2bcaf2cb",
   "metadata": {},
   "source": [
    "Explore the data"
   ]
  },
  {
   "cell_type": "code",
   "execution_count": null,
   "id": "580ee4fb",
   "metadata": {},
   "outputs": [],
   "source": []
  },
  {
   "cell_type": "markdown",
   "id": "9ff331f1",
   "metadata": {},
   "source": [
    "Sorting and Grouping\n",
    "\n",
    "Use ```sort_values()``` to sort by column\n",
    "\n",
    "```joined['Neighborhood'].sort_values()```\n",
    "\n"
   ]
  },
  {
   "cell_type": "code",
   "execution_count": null,
   "id": "1bf28fa9",
   "metadata": {},
   "outputs": [],
   "source": []
  },
  {
   "cell_type": "markdown",
   "id": "6104c1f4",
   "metadata": {},
   "source": [
    "The ```groupby()``` function collects data into groups and allows for aggregate functions to be performed on them\n",
    "\n",
    "```joined.groupby('Neighborhood')['Name'].count()```"
   ]
  },
  {
   "cell_type": "code",
   "execution_count": null,
   "id": "66d7c9d0",
   "metadata": {},
   "outputs": [],
   "source": []
  },
  {
   "cell_type": "markdown",
   "id": "2bcf645b",
   "metadata": {},
   "source": [
    "We can also find the library with the largest or smallest amount of space by using ```max()``` and ```min()```\n",
    "\n",
    "```largest = joined[\"Square Ft\"].max()\n",
    "joined[joined['Square Ft'] == largest]```"
   ]
  },
  {
   "cell_type": "code",
   "execution_count": null,
   "id": "b69552db",
   "metadata": {},
   "outputs": [],
   "source": []
  },
  {
   "cell_type": "code",
   "execution_count": null,
   "id": "c2b47acc",
   "metadata": {},
   "outputs": [],
   "source": []
  }
 ],
 "metadata": {
  "kernelspec": {
   "display_name": "Python 3",
   "language": "python",
   "name": "python3"
  },
  "language_info": {
   "codemirror_mode": {
    "name": "ipython",
    "version": 3
   },
   "file_extension": ".py",
   "mimetype": "text/x-python",
   "name": "python",
   "nbconvert_exporter": "python",
   "pygments_lexer": "ipython3",
   "version": "3.8.15"
  }
 },
 "nbformat": 4,
 "nbformat_minor": 5
}
