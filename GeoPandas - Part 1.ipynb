{
 "cells": [
  {
   "cell_type": "markdown",
   "metadata": {
    "deletable": false,
    "editable": false
   },
   "source": [
    "## Introduction to GeoPandas\n",
    "\n",
    "### Part 1: Working with GeoDataFrames\n",
    "\n",
    "\n",
    "This workshop introduces some of the concepts and basic features of GeoPandas, an extension the popular data science library Pandas. GeoPandas works with many vector data formats such as shapefiles, geoJSON files, and geoPackages.\n",
    "\n",
    "GeoPandas Documentation: https://geopandas.org/en/stable/docs.html\n",
    "\n",
    "Begin by importing the following libraries.\n",
    "\n",
    "```import pandas as pd```\n",
    "\n",
    "```import geopandas as gpd```\n",
    "\n",
    "```import matplotlib.pyplot as plt```\n",
    "\n",
    "```%matplotlib inline```"
   ]
  },
  {
   "cell_type": "code",
   "execution_count": null,
   "metadata": {},
   "outputs": [],
   "source": []
  },
  {
   "cell_type": "markdown",
   "metadata": {
    "deletable": false,
    "editable": false
   },
   "source": [
    "### GeoDataFrame\n",
    "\n",
    "A GeoDataFrame is a two-dimensional data structure expressed as columns and rows. A GeoDataFrame is a Pandas DataFrame that contains a column for geometry.\n",
    "\n",
    "Create a Pandas dataFrame named ```df``` with data for 4 cities"
   ]
  },
  {
   "cell_type": "code",
   "execution_count": 394,
   "metadata": {},
   "outputs": [
    {
     "data": {
      "text/html": [
       "<div>\n",
       "<style scoped>\n",
       "    .dataframe tbody tr th:only-of-type {\n",
       "        vertical-align: middle;\n",
       "    }\n",
       "\n",
       "    .dataframe tbody tr th {\n",
       "        vertical-align: top;\n",
       "    }\n",
       "\n",
       "    .dataframe thead th {\n",
       "        text-align: right;\n",
       "    }\n",
       "</style>\n",
       "<table border=\"1\" class=\"dataframe\">\n",
       "  <thead>\n",
       "    <tr style=\"text-align: right;\">\n",
       "      <th></th>\n",
       "      <th>City</th>\n",
       "      <th>Latitude</th>\n",
       "      <th>Longitude</th>\n",
       "    </tr>\n",
       "  </thead>\n",
       "  <tbody>\n",
       "    <tr>\n",
       "      <th>0</th>\n",
       "      <td>San Francisco</td>\n",
       "      <td>37.78</td>\n",
       "      <td>-122.39</td>\n",
       "    </tr>\n",
       "    <tr>\n",
       "      <th>1</th>\n",
       "      <td>San Jose</td>\n",
       "      <td>37.32</td>\n",
       "      <td>-121.87</td>\n",
       "    </tr>\n",
       "    <tr>\n",
       "      <th>2</th>\n",
       "      <td>Palo Alto</td>\n",
       "      <td>37.44</td>\n",
       "      <td>-122.14</td>\n",
       "    </tr>\n",
       "    <tr>\n",
       "      <th>3</th>\n",
       "      <td>Gilroy</td>\n",
       "      <td>37.00</td>\n",
       "      <td>-121.56</td>\n",
       "    </tr>\n",
       "  </tbody>\n",
       "</table>\n",
       "</div>"
      ],
      "text/plain": [
       "            City  Latitude  Longitude\n",
       "0  San Francisco     37.78    -122.39\n",
       "1       San Jose     37.32    -121.87\n",
       "2      Palo Alto     37.44    -122.14\n",
       "3         Gilroy     37.00    -121.56"
      ]
     },
     "execution_count": 394,
     "metadata": {},
     "output_type": "execute_result"
    }
   ],
   "source": [
    "df = pd.DataFrame(\n",
    "    {'City': ['San Francisco', 'San Jose','Palo Alto','Gilroy'],\n",
    "     'Latitude': [37.78, 37.32, 37.44, 37.00],\n",
    "     'Longitude': [-122.39,-121.87,-122.14,-121.56]})\n",
    "df"
   ]
  },
  {
   "cell_type": "code",
   "execution_count": 1,
   "metadata": {},
   "outputs": [],
   "source": [
    "type(df)"
   ]
  },
  {
   "cell_type": "markdown",
   "metadata": {
    "deletable": false,
    "editable": false
   },
   "source": [
    "To make this a GeoDataFrame, specify a coordinate reference system using  ```crs``` and use the ```points_from_xy()``` function to create the geometry data from the **Longitude** and **Latitude** columns.\n",
    "\n",
    "```cities = gpd.GeoDataFrame(df, crs=4326, geometry=gpd.points_from_xy(df.Longitude, df.Latitude))```"
   ]
  },
  {
   "cell_type": "code",
   "execution_count": null,
   "metadata": {},
   "outputs": [],
   "source": []
  },
  {
   "cell_type": "markdown",
   "metadata": {},
   "source": [
    "```type(cities)```"
   ]
  },
  {
   "cell_type": "code",
   "execution_count": null,
   "metadata": {},
   "outputs": [],
   "source": []
  },
  {
   "cell_type": "markdown",
   "metadata": {
    "deletable": false,
    "editable": false
   },
   "source": [
    "### Reading files\n",
    "\n",
    "The ```read_file()``` function creates a GeoDataFrame from an input file or URL. \n",
    "\n",
    "Create a GeoDataFrame named ```counties``` from a shapefile of California county boundaries.\n",
    "\n",
    "```counties = gpd.read_file('data/tl_2020_06_county20.shp')```\n",
    "\n",
    "```counties```"
   ]
  },
  {
   "cell_type": "code",
   "execution_count": null,
   "metadata": {},
   "outputs": [],
   "source": []
  },
  {
   "cell_type": "markdown",
   "metadata": {},
   "source": [
    "### Inspecting the GeoDataFrame"
   ]
  },
  {
   "cell_type": "markdown",
   "metadata": {},
   "source": []
  },
  {
   "cell_type": "markdown",
   "metadata": {},
   "source": [
    "View the Data Types\n",
    "\n",
    "```counties.dtypes```"
   ]
  },
  {
   "cell_type": "code",
   "execution_count": null,
   "metadata": {},
   "outputs": [],
   "source": []
  },
  {
   "cell_type": "markdown",
   "metadata": {
    "deletable": false,
    "editable": false
   },
   "source": [
    "View geometries and types\n",
    "\n",
    "```counties.geometry```\n",
    "\n",
    "```counties.geom_type```"
   ]
  },
  {
   "cell_type": "code",
   "execution_count": null,
   "metadata": {},
   "outputs": [],
   "source": []
  },
  {
   "cell_type": "markdown",
   "metadata": {
    "deletable": false,
    "editable": false
   },
   "source": [
    "View the GeoDataFrame on a map using the ```plot()```  and ```explore()``` functions."
   ]
  },
  {
   "cell_type": "code",
   "execution_count": null,
   "metadata": {},
   "outputs": [],
   "source": []
  },
  {
   "cell_type": "code",
   "execution_count": null,
   "metadata": {},
   "outputs": [],
   "source": []
  },
  {
   "cell_type": "markdown",
   "metadata": {},
   "source": [
    "```counties.head()```"
   ]
  },
  {
   "cell_type": "code",
   "execution_count": null,
   "metadata": {},
   "outputs": [],
   "source": []
  },
  {
   "cell_type": "markdown",
   "metadata": {
    "deletable": false,
    "editable": false
   },
   "source": [
    "Create a new GeoDataFrame named ```railways``` from a GeoJSON file of railway lines in the San Francisco Bay Area.\n",
    "\n",
    "```railways = gpd.read_file('data/Passenger_Railways_2019.geojson')```"
   ]
  },
  {
   "cell_type": "code",
   "execution_count": null,
   "metadata": {},
   "outputs": [],
   "source": []
  },
  {
   "cell_type": "code",
   "execution_count": null,
   "metadata": {},
   "outputs": [],
   "source": []
  },
  {
   "cell_type": "markdown",
   "metadata": {
    "deletable": false,
    "editable": false
   },
   "source": [
    "Create a new GeoDataFrame named ```stations``` from ```data/Passenger_Rail_Stations_2019.geojson```"
   ]
  },
  {
   "cell_type": "code",
   "execution_count": null,
   "metadata": {},
   "outputs": [],
   "source": []
  },
  {
   "cell_type": "markdown",
   "metadata": {
    "deletable": false,
    "editable": false
   },
   "source": [
    "### Projections and Coordinate Reference Systems \n",
    "\n",
    "To view the Projection or Coordinate Reference System (CRS) of a geoDataFrame use the ```crs``` property.\n",
    "\n",
    "```railways.crs```\n",
    "\n",
    "```stations.crs```\n",
    "\n",
    "```counties.crs```"
   ]
  },
  {
   "cell_type": "code",
   "execution_count": null,
   "metadata": {},
   "outputs": [],
   "source": []
  },
  {
   "cell_type": "code",
   "execution_count": null,
   "metadata": {},
   "outputs": [],
   "source": []
  },
  {
   "cell_type": "code",
   "execution_count": null,
   "metadata": {},
   "outputs": [],
   "source": []
  },
  {
   "cell_type": "markdown",
   "metadata": {
    "deletable": false,
    "editable": false
   },
   "source": [
    "Transform the ```counties``` GeoDataFrame into WGS84 (4326) using the ```to_crs()``` function. View the crs.\n",
    "\n",
    "```counties = counties.to_crs(4326)```\n",
    "\n",
    "```counties.crs```"
   ]
  },
  {
   "cell_type": "markdown",
   "metadata": {
    "deletable": false,
    "editable": false
   },
   "source": [
    "### Finding and Selecting Data\n",
    "\n",
    "Searching and filtering the GeoDataFrame by rows, columns, or cell values.\n",
    "\n",
    "View the first 7 rows of the ```counties``` GeoDataFrame\n",
    "\n",
    "```counties[:7]```"
   ]
  },
  {
   "cell_type": "code",
   "execution_count": null,
   "metadata": {},
   "outputs": [],
   "source": []
  },
  {
   "cell_type": "markdown",
   "metadata": {
    "deletable": false,
    "editable": false
   },
   "source": [
    "View the **GEOID20** column\n",
    "\n",
    "```counties[['GEOID20']]```\n"
   ]
  },
  {
   "cell_type": "code",
   "execution_count": null,
   "metadata": {},
   "outputs": [],
   "source": []
  },
  {
   "cell_type": "markdown",
   "metadata": {
    "deletable": false,
    "editable": false
   },
   "source": [
    "View the **GEOID20** and **NAME20** columns\n",
    "\n",
    "```counties[['GEOID20','NAME20']]```"
   ]
  },
  {
   "cell_type": "code",
   "execution_count": null,
   "metadata": {},
   "outputs": [],
   "source": []
  },
  {
   "cell_type": "markdown",
   "metadata": {
    "deletable": false,
    "editable": false
   },
   "source": [
    "View the first 19 rows of the **GEOID20** and **NAME** columns\n",
    "\n",
    "```counties[['GEOID20','NAME20']][0:18]```"
   ]
  },
  {
   "cell_type": "code",
   "execution_count": null,
   "metadata": {},
   "outputs": [],
   "source": []
  },
  {
   "cell_type": "markdown",
   "metadata": {
    "deletable": false,
    "editable": false
   },
   "source": [
    "View the first row of ```counties```"
   ]
  },
  {
   "cell_type": "code",
   "execution_count": null,
   "metadata": {},
   "outputs": [],
   "source": []
  },
  {
   "cell_type": "markdown",
   "metadata": {
    "deletable": false,
    "editable": false
   },
   "source": [
    "### Selecting Data\n",
    "\n",
    "Selecting data by columns\n",
    "\n",
    "Subset the GeoDataFrame to contain only the **GEOID20**, **NAME20**, and **geometry** columns.\n",
    "\n",
    "```counties = counties[['GEOID20', 'NAME20','geometry']]```"
   ]
  },
  {
   "cell_type": "code",
   "execution_count": 5,
   "metadata": {},
   "outputs": [],
   "source": [
    "counties = gpd.read_file('data/tl_2020_06_county20.shp')\n",
    "counties = counties.to_crs(4326)"
   ]
  },
  {
   "cell_type": "markdown",
   "metadata": {
    "deletable": false,
    "editable": false
   },
   "source": [
    "Use the ```rename()``` function and provide a dict of column names to update\n",
    "\n",
    "```counties.rename(columns={'NAME20':'County','GEOID20':'FIPS'}, inplace=True)```"
   ]
  },
  {
   "cell_type": "code",
   "execution_count": null,
   "metadata": {},
   "outputs": [],
   "source": []
  },
  {
   "cell_type": "markdown",
   "metadata": {
    "deletable": false,
    "editable": false
   },
   "source": [
    "Plot the data using ```explore```"
   ]
  },
  {
   "cell_type": "code",
   "execution_count": null,
   "metadata": {},
   "outputs": [],
   "source": []
  },
  {
   "cell_type": "markdown",
   "metadata": {
    "deletable": false,
    "editable": false
   },
   "source": [
    "Selecting data by cell values\n",
    "\n",
    "From ```railways```, create a new GeoDataFrame ```caltrainRail``` containing only data where the **operator** column equals Caltrain.\n",
    "\n",
    "```caltrainRail = railways.loc[railways['operator']=='Caltrain']```"
   ]
  },
  {
   "cell_type": "code",
   "execution_count": null,
   "metadata": {},
   "outputs": [],
   "source": []
  },
  {
   "cell_type": "markdown",
   "metadata": {},
   "source": [
    "From ``` stations```, create a new GeoDataFrame ```caltrainStations``` containing only data where the **agency_nm** column contains CALTRAIN\n",
    "\n",
    "```caltrainStations = stations.loc[stations['operator']=='CALTRAIN']```"
   ]
  },
  {
   "cell_type": "code",
   "execution_count": null,
   "metadata": {},
   "outputs": [],
   "source": []
  },
  {
   "cell_type": "markdown",
   "metadata": {},
   "source": [
    "You can search for a specified string within a cell value with ```str.contains()```\n",
    "\n",
    "```stations.loc[stations['station_na'].str.contains('Oakland')]```"
   ]
  },
  {
   "cell_type": "code",
   "execution_count": null,
   "metadata": {},
   "outputs": [],
   "source": []
  },
  {
   "cell_type": "markdown",
   "metadata": {
    "deletable": false,
    "editable": false
   },
   "source": [
    "Use the ```isin()``` function to select only rows matching San Francisco, San Mateo, or Santa Clara from the **County** column.\n",
    "\n",
    "```SFSMSC = counties.loc[counties['County'].isin(['San Mateo','Santa Clara','San Francisco'])]```"
   ]
  },
  {
   "cell_type": "code",
   "execution_count": null,
   "metadata": {},
   "outputs": [],
   "source": []
  },
  {
   "cell_type": "markdown",
   "metadata": {
    "deletable": false,
    "editable": false
   },
   "source": [
    "Plot the data. Use ```edgecolor='black'``` to view the boundary lines"
   ]
  },
  {
   "cell_type": "code",
   "execution_count": null,
   "metadata": {},
   "outputs": [],
   "source": []
  },
  {
   "cell_type": "markdown",
   "metadata": {
    "deletable": false,
    "editable": false
   },
   "source": [
    "Notice this map shows the Farralon Islands off the coast of San Francisco. We can find and remove them from the GeoDataFrame using the ```explode()``` function.\n",
    "\n",
    "```SFSMSC = SFSMSC.explode(index_parts=False)```"
   ]
  },
  {
   "cell_type": "code",
   "execution_count": null,
   "metadata": {},
   "outputs": [],
   "source": []
  },
  {
   "cell_type": "markdown",
   "metadata": {
    "deletable": false,
    "editable": false
   },
   "source": [
    "Extract only the first 3 rows of the GeoDataFrame\n",
    "\n",
    "```SFSMSC = SFSMSC[0:3]```"
   ]
  },
  {
   "cell_type": "code",
   "execution_count": null,
   "metadata": {},
   "outputs": [],
   "source": []
  },
  {
   "cell_type": "markdown",
   "metadata": {
    "deletable": false,
    "editable": false
   },
   "source": [
    "Plot the data\n",
    "\n",
    "```SFSMSC.plot(edgecolor='black', color='gray', alpha=0.3)```"
   ]
  },
  {
   "cell_type": "code",
   "execution_count": null,
   "metadata": {},
   "outputs": [],
   "source": []
  },
  {
   "cell_type": "markdown",
   "metadata": {
    "deletable": false,
    "editable": false
   },
   "source": [
    "### Plotting Data\n",
    "\n",
    "Plot the boundaries, railways, and stations.\n",
    "\n",
    "```SFSMSC.plot(color='gray', alpha=0.3)```\n",
    "\n",
    "```caltrainStations.plot(color='red')```\n",
    "\n",
    "```caltrainRail.plot(color='black')```"
   ]
  },
  {
   "cell_type": "code",
   "execution_count": null,
   "metadata": {},
   "outputs": [],
   "source": []
  },
  {
   "cell_type": "markdown",
   "metadata": {
    "deletable": false,
    "editable": false
   },
   "source": [
    "Plot all of the data in the same figure\n",
    "\n",
    "```fig, ax = plt.subplots(figsize=(10, 10))```\n",
    "\n",
    "```SFSMSC.plot(ax=ax, alpha=0.3, color=\"gray\")```\n",
    "\n",
    "```caltrainRail.plot(ax=ax, color='black')```\n",
    "\n",
    "```caltrainStations.plot(ax=ax, alpha=0.5, color='red')```"
   ]
  },
  {
   "cell_type": "code",
   "execution_count": null,
   "metadata": {
    "jupyter": {
     "outputs_hidden": false
    }
   },
   "outputs": [],
   "source": []
  },
  {
   "cell_type": "markdown",
   "metadata": {},
   "source": [
    "Add labels from the ```cities``` geoDataFrame\n",
    "\n",
    "```fig, ax = plt.subplots(figsize=(10, 10))```\n",
    "\n",
    "```SFSMSC.plot(ax=ax, alpha=0.3, color=\"gray\", edgecolor='white')```\n",
    "\n",
    "```caltrainRail.plot(ax=ax, color='black')```\n",
    "\n",
    "```caltrainStations.plot(ax=ax, alpha=0.5, color='red')```\n",
    "\n",
    "```for x, y, label in zip(cities.geometry.x, cities.geometry.y, cities['City']):\n",
    "    ax.annotate(label, xy=(x, y), xytext=(3,3), textcoords=\"offset points\")\n",
    "ax.set_axis_off()```"
   ]
  },
  {
   "cell_type": "code",
   "execution_count": null,
   "metadata": {
    "jupyter": {
     "outputs_hidden": false
    }
   },
   "outputs": [],
   "source": []
  },
  {
   "cell_type": "markdown",
   "metadata": {
    "deletable": false,
    "editable": false
   },
   "source": [
    "### Writing files\n",
    "\n",
    "Use the```to_file()``` function to write a GeoDataFrame to a file\n",
    "\n",
    "Create a shapefile from ```caltrainStations```\n",
    "\n",
    "```caltrainStations.to_file('data/caltrainStations.shp')```"
   ]
  },
  {
   "cell_type": "code",
   "execution_count": null,
   "metadata": {},
   "outputs": [],
   "source": []
  },
  {
   "cell_type": "markdown",
   "metadata": {
    "deletable": false,
    "editable": false
   },
   "source": [
    "Save the map as a png file\n",
    "\n",
    "\n",
    "```fig.savefig(\"data/caltrain.png\")```"
   ]
  },
  {
   "cell_type": "code",
   "execution_count": null,
   "metadata": {},
   "outputs": [],
   "source": []
  },
  {
   "cell_type": "markdown",
   "metadata": {
    "deletable": false,
    "editable": false
   },
   "source": [
    "Save ```SFSMSC```, ```caltrainStations```, and ```caltrainRails``` layers to a GeoPackage\n",
    "\n",
    "```SFSMSC.to_file(\"data/caltrain.gpkg\", layer='counties')```\n",
    "\n",
    "```caltrainStations.to_file(\"data/caltrain.gpkg\", layer='stations')```\n",
    "\n",
    "```caltrainRail.to_file(\"data/caltrain.gpkg\", layer='railways')```"
   ]
  },
  {
   "cell_type": "code",
   "execution_count": null,
   "metadata": {},
   "outputs": [],
   "source": []
  },
  {
   "cell_type": "markdown",
   "metadata": {
    "deletable": false,
    "editable": false
   },
   "source": [
    "### Reading Data from a CSV file\n",
    "\n",
    "First, create a Pandas DataFrame using ```read_csv()```\n",
    "\n",
    "This csv file contains information (including lat/long points) about Public Libraries in San Francisco\n",
    "\n",
    "```df = pd.read_csv('data/libraries.csv')```"
   ]
  },
  {
   "cell_type": "code",
   "execution_count": null,
   "metadata": {},
   "outputs": [],
   "source": []
  },
  {
   "cell_type": "code",
   "execution_count": 7,
   "metadata": {},
   "outputs": [],
   "source": [
    "type(df)"
   ]
  },
  {
   "cell_type": "markdown",
   "metadata": {
    "deletable": false,
    "editable": false
   },
   "source": [
    "Use the ```points_from_xy()``` function to assign geometries from the **longitude** and **latitude** columns.\n",
    "\n",
    "```libraries = gpd.GeoDataFrame(df, \n",
    "    geometry = gpd.points_from_xy(df['longitude'], df['latitude']), \n",
    "    crs = 'EPSG:4326')```"
   ]
  },
  {
   "cell_type": "code",
   "execution_count": null,
   "metadata": {},
   "outputs": [],
   "source": []
  },
  {
   "cell_type": "markdown",
   "metadata": {
    "deletable": false,
    "editable": false
   },
   "source": [
    "Write the data to a new file\n",
    "\n",
    "```libraries.to_file('data/libraries.geojson')```"
   ]
  },
  {
   "cell_type": "code",
   "execution_count": null,
   "metadata": {},
   "outputs": [],
   "source": []
  },
  {
   "cell_type": "markdown",
   "metadata": {},
   "source": []
  },
  {
   "cell_type": "code",
   "execution_count": null,
   "metadata": {},
   "outputs": [],
   "source": []
  }
 ],
 "metadata": {
  "kernelspec": {
   "display_name": "Python 3",
   "language": "python",
   "name": "python3"
  },
  "language_info": {
   "codemirror_mode": {
    "name": "ipython",
    "version": 3
   },
   "file_extension": ".py",
   "mimetype": "text/x-python",
   "name": "python",
   "nbconvert_exporter": "python",
   "pygments_lexer": "ipython3",
   "version": "3.8.15"
  },
  "widgets": {
   "application/vnd.jupyter.widget-state+json": {
    "state": {},
    "version_major": 2,
    "version_minor": 0
   }
  }
 },
 "nbformat": 4,
 "nbformat_minor": 4
}
